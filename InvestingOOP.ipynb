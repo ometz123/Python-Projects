{
  "nbformat": 4,
  "nbformat_minor": 0,
  "metadata": {
    "colab": {
      "name": "InvestingOOP.ipynb",
      "provenance": [],
      "collapsed_sections": []
    },
    "kernelspec": {
      "name": "python3",
      "display_name": "Python 3"
    }
  },
  "cells": [
    {
      "cell_type": "markdown",
      "metadata": {
        "id": "RUEGKepuqME4"
      },
      "source": [
        "### Imports"
      ]
    },
    {
      "cell_type": "code",
      "metadata": {
        "id": "mtmF5JDKqLRF"
      },
      "source": [
        "import random\n",
        "from IPython.display import clear_output"
      ],
      "execution_count": 1,
      "outputs": []
    },
    {
      "cell_type": "markdown",
      "metadata": {
        "id": "NtRGDp349uQN"
      },
      "source": [
        "### Investor Class"
      ]
    },
    {
      "cell_type": "code",
      "metadata": {
        "id": "U4T6rYdR9wUm"
      },
      "source": [
        "class Investor:\n",
        "  def __init__(self, name, budget, isHumen):\n",
        "    self.name= name\n",
        "    self.budget= budget\n",
        "    self.properties=[]\n",
        "    self.isHumen=isHumen\n",
        "\n",
        "  def BuyHouse(self, market): #make acquisition\n",
        "    if self.isHumen:\n",
        "      print(\"Please choose a property below: \")\n",
        "      market.Print()  #show properties\n",
        "      i= int(input())-1\n",
        "    else:\n",
        "      #randomly buy house\n",
        "      i = random.randint(0, len(market.properties)-1)\n",
        "    self.budget-=market.properties[i].price #subtruct house price from investor budget\n",
        "    self.properties.append(market.properties[i]) #add property to investors properties\n",
        "    print('self.properties: ',self.properties[len(self.properties)-1].location)\n",
        "    print('******************************')\n",
        "    print(f'money left: {self.budget}$')\n",
        "    print(f'The house in {self.properties[len(self.properties)-1].location} has been sold to {self.name}')\n",
        "    print('******************************\\n')\n",
        "    del market.properties[i]\n",
        "\n",
        "  def ShowProperty(self):\n",
        "    i=1\n",
        "    for prop in self.properties:\n",
        "      print(f'{i} location:{prop.location}, Price:{prop.price}')\n",
        "      i+=1"
      ],
      "execution_count": 2,
      "outputs": []
    },
    {
      "cell_type": "markdown",
      "metadata": {
        "id": "gYiKwvPKajGx"
      },
      "source": [
        "### House Class"
      ]
    },
    {
      "cell_type": "code",
      "metadata": {
        "id": "PkL7wHJJaikz"
      },
      "source": [
        "class House:\n",
        "  def __init__(self, location, price, width, length):\n",
        "    self.location=location\n",
        "    self.price=price\n",
        "    self.width= width\n",
        "    self.length=length\n",
        "  def Calc(self):\n",
        "    self.size= width*length\n"
      ],
      "execution_count": 3,
      "outputs": []
    },
    {
      "cell_type": "markdown",
      "metadata": {
        "id": "v7ylfZBqb6SJ"
      },
      "source": [
        "### Market Class"
      ]
    },
    {
      "cell_type": "code",
      "metadata": {
        "id": "e_ks-9MJb-Hl"
      },
      "source": [
        "class Market:\n",
        "  def __init__(self, properties):\n",
        "    self.properties=properties\n",
        "\n",
        "  def HouseSold(self, choice, name):\n",
        "    print('HouseSold')\n",
        "\n",
        "  def Print(self):\n",
        "    print('Houses left in the market:\\n')\n",
        "    i=1\n",
        "    for prop in self.properties:\n",
        "      print(f'{i}. {prop.location} Price: {prop.price}$\\n')\n",
        "      i+=1\n",
        "  \n",
        "  def ChangePrices(self, invs):\n",
        "    self.__ChangeMarket(self.properties)\n",
        "    for inv in invs:\n",
        "      self.__ChangeMarket(inv.properties)\n",
        "\n",
        "  def SellBackToMarket(self, houseIndex, invs):\n",
        "      for inv in invs:\n",
        "        if not inv.isHumen:\n",
        "          houseIndex=random.randint(1,3)\n",
        "          if houseIndex==3:\n",
        "            houseIndex=0\n",
        "          else:\n",
        "            houseIndex=random.randint(0,len(inv.properties)-1)\n",
        "        print('houseIndex: ',houseIndex)\n",
        "        print(f'{inv.name} sold house in {inv.properties[houseIndex].location}')\n",
        "        print(f'Prev budget: {inv.budget}$')\n",
        "        self.properties.append(inv.properties[houseIndex])\n",
        "        inv.budget+= inv.properties[houseIndex].price\n",
        "        del inv.properties[houseIndex]\n",
        "        print(f'New budget: {inv.budget}$')\n",
        "\n",
        "  def __ChangeMarket(self, houses):\n",
        "    for house in houses:\n",
        "        if random.randint(0, 1)==1:\n",
        "          house.price+=0.15*house.price\n",
        "        else:\n",
        "          house.price-=0.15*house.price\n",
        "\n"
      ],
      "execution_count": 11,
      "outputs": []
    },
    {
      "cell_type": "markdown",
      "metadata": {
        "id": "vY-dxSazdF0S"
      },
      "source": [
        "### **Main**"
      ]
    },
    {
      "cell_type": "code",
      "metadata": {
        "id": "0c8j3BDzdIDY"
      },
      "source": [
        "def printMenu():\n",
        "  print('\\n_________________________\\n'+\n",
        "        '1. Show market values\\n'+\n",
        "        '2. Buy a property\\n'+\n",
        "        '3. Sell a property\\n'+\n",
        "        '4. Show my properties\\n'+\n",
        "        '5. Exit\\n')\n",
        "  \n",
        "def ShowMarketValues(market,investors):\n",
        "  market.Print()\n",
        "\n",
        "def BuyAProperty(market,investors):\n",
        "  for inv in investors:\n",
        "    inv.BuyHouse(market)\n",
        "    market.ChangePrices(investors)\n",
        "  input('Press any key to continue...')\n",
        "\n",
        "def SellAProperty(market,investors):\n",
        "      print('Choose the house you want to sell: ')\n",
        "      investors[0].ShowProperty()\n",
        "      houseIndex= int(input())-1\n",
        "      market.SellBackToMarket(houseIndex, investors)\n",
        "      market.ChangePrices(investors)\n",
        "\n",
        "def ShowMyProperties(market,investors):\n",
        "  for inv in investors:\n",
        "    print(f'{inv.name} properties are these:\\n')\n",
        "    for house in inv.properties:\n",
        "      print(f'house in: {house.location}')\n",
        "    print('********************************\\n')\n",
        "def MySC(case, market,investors):\n",
        "  switcher={\n",
        "      '1': ShowMarketValues,\n",
        "      '2': BuyAProperty,\n",
        "      '3': SellAProperty,\n",
        "      '4': ShowMyProperties,\n",
        "      }\n",
        "  func = switcher.get(case, lambda market, investors: 'Invalid')\n",
        "  return func(market,investors)\n",
        "\n",
        "def Main():\n",
        "  name= input('hello please enter your name: ')\n",
        "  budget= input('please enter your budget: ')\n",
        "  investors=[Investor(name,int(budget),True),Investor('Harry',10000,False), Investor('Potter',20000,False)]\n",
        "  houses = [\n",
        "            House(\"LA, California\",450000,20,10),\n",
        "            House(\"IL, Tel Aviv\",1000000,5,5),\n",
        "            House(\"Rus, Moscow\",40000,20,10),\n",
        "            House(\"Switz, Zr\",125000,7,9),\n",
        "            House(\"Fr, Paris\",225000,15,4),\n",
        "            House(\"Eg, Cairo\",75000,15,15),\n",
        "            House(\"Pt, Lisbon\",100000,10,10),\n",
        "            House(\"Ge, Batumi\",75000,14,6),\n",
        "            House(\"In, New Delhi\",50000,20,20),\n",
        "            House(\"Ca, Montreal\",500000,30,35),\n",
        "            House(\"Cambodia, Phnom Pen\",15000,9,9),\n",
        "            House(\"Uk, London\",1000000,10,10)\n",
        "            ]\n",
        "  m= Market(houses)\n",
        "  choice=0\n",
        "  while int(choice)!= 5:\n",
        "    printMenu()   \n",
        "    choice=input()\n",
        "    if choice =='5':\n",
        "      for inv in investors:\n",
        "        print(f\"{inv.name}'s budget-> {inv.budget}$\\n\")\n",
        "        for house in inv.properties:\n",
        "          print('Properties:')\n",
        "          print(f'{house.location}\\n The house price is: {house.price}\\n And the size in square meters is: {house.Calc()}')\n",
        "          print('********************************')\n",
        "      print('ByeBye!')\n",
        "      break\n",
        "\n",
        "    if MySC(choice, m, investors)== \"Invalid\":\n",
        "      print('Wrong Choice!')\n",
        "    input('\\nPress any key to continue...')\n",
        "    clear_output()"
      ],
      "execution_count": 5,
      "outputs": []
    },
    {
      "cell_type": "code",
      "metadata": {
        "id": "9DCFGR6ArlYK",
        "outputId": "5debac9e-3607-4805-d20e-064e3a5ec440",
        "colab": {
          "base_uri": "https://localhost:8080/"
        }
      },
      "source": [
        "Main()1"
      ],
      "execution_count": 12,
      "outputs": [
        {
          "output_type": "stream",
          "text": [
            "\n",
            "_________________________\n",
            "1. Show market values\n",
            "2. Buy a property\n",
            "3. Sell a property\n",
            "4. Show my properties\n",
            "5. Exit\n",
            "\n",
            "5\n",
            "2's budget-> 517921.72335998813$\n",
            "\n",
            "Harry's budget-> -38217.96802240531$\n",
            "\n",
            "Potter's budget-> -23958.06445782236$\n",
            "\n",
            "ByeBye!\n"
          ],
          "name": "stdout"
        }
      ]
    }
  ]
}